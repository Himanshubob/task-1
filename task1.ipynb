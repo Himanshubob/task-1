{
 "cells": [
  {
   "cell_type": "markdown",
   "id": "f13c0922",
   "metadata": {},
   "source": [
    "# Q2. Write a python program for encrypting a message sent to you by your friend. The logic of encryption should be such that, for a the output should be z. For b, the output should be y. For c, the output should be x respectively. Also, the whitespace should be replaced with a dollar sign. Keep the punctuation marks unchanged."
   ]
  },
  {
   "cell_type": "code",
   "execution_count": 8,
   "id": "a3e9eff4",
   "metadata": {},
   "outputs": [
    {
     "name": "stdout",
     "output_type": "stream",
     "text": [
      "enter the massage :you are very lucky\n",
      "ykcul yrev era uoy\n"
     ]
    }
   ],
   "source": [
    "n=str( input(\"enter the massage :\"))\n",
    "print(n[::-1])"
   ]
  },
  {
   "cell_type": "markdown",
   "id": "c0d5c382",
   "metadata": {},
   "source": [
    "# Q1.. create a function which will take a list as an argument and return the product of all the numbers after creating a flat list "
   ]
  },
  {
   "cell_type": "code",
   "execution_count": 2,
   "id": "6659c816",
   "metadata": {},
   "outputs": [],
   "source": [
    "l= [1,2,3,4, [44,55,66, True], False, (34,56,78,89,34), {1,2,3,3,2,1}, {1:34, \"key2\": [55, 67, 78, 89], 4: (45,\n",
    "22, 61, 34)}, [56, 'data science'], 'Machine Learning']"
   ]
  },
  {
   "cell_type": "code",
   "execution_count": 13,
   "id": "816fc4bf",
   "metadata": {},
   "outputs": [],
   "source": [
    "l1=[]\n",
    "l2=[]\n",
    "for i in l:\n",
    "    if type(i)==list:\n",
    "        for j in i:\n",
    "            if type(j)==int:\n",
    "                \n",
    "                l1.append(j)\n",
    "    elif type(i)==tuple:\n",
    "        for j in i:\n",
    "            if type(j)==int:\n",
    "                l1.append(j)\n",
    "                \n",
    "                \n",
    "    elif type(i)==set:\n",
    "        for j in i:\n",
    "            if type(j)==int:\n",
    "                l1.append(j)\n",
    "    \n",
    "    elif type(i)==int:\n",
    "        l1.append(i)\n",
    "    else:\n",
    "        \n",
    "        if type(i)==str:\n",
    "            l2.append(i)\n",
    "        "
   ]
  },
  {
   "cell_type": "code",
   "execution_count": 6,
   "id": "49726797",
   "metadata": {},
   "outputs": [
    {
     "data": {
      "text/plain": [
       "[1, 2, 3, 4, 44, 55, 66, 34, 56, 78, 89, 34, 1, 2, 3, 1, 4, 56]"
      ]
     },
     "execution_count": 6,
     "metadata": {},
     "output_type": "execute_result"
    }
   ],
   "source": [
    "l1"
   ]
  },
  {
   "cell_type": "code",
   "execution_count": 25,
   "id": "3a02d79a",
   "metadata": {},
   "outputs": [],
   "source": [
    "l3=[]\n",
    "for i in l:\n",
    "    if type(i)==dict:\n",
    "        l3.append(i)"
   ]
  },
  {
   "cell_type": "code",
   "execution_count": 16,
   "id": "9a54e64b",
   "metadata": {},
   "outputs": [
    {
     "data": {
      "text/plain": [
       "[{1: 34, 'key2': [55, 67, 78, 89], 4: (45, 22, 61, 34)}]"
      ]
     },
     "execution_count": 16,
     "metadata": {},
     "output_type": "execute_result"
    }
   ],
   "source": [
    "l3"
   ]
  },
  {
   "cell_type": "code",
   "execution_count": 33,
   "id": "a0f8c6e3",
   "metadata": {},
   "outputs": [
    {
     "data": {
      "text/plain": [
       "34"
      ]
     },
     "execution_count": 33,
     "metadata": {},
     "output_type": "execute_result"
    }
   ],
   "source": [
    "l3[0][1]"
   ]
  },
  {
   "cell_type": "code",
   "execution_count": 35,
   "id": "44080b44",
   "metadata": {},
   "outputs": [
    {
     "data": {
      "text/plain": [
       "[55, 67, 78, 89]"
      ]
     },
     "execution_count": 35,
     "metadata": {},
     "output_type": "execute_result"
    }
   ],
   "source": [
    "l3[0]['key2']"
   ]
  },
  {
   "cell_type": "code",
   "execution_count": 36,
   "id": "2613b644",
   "metadata": {},
   "outputs": [
    {
     "data": {
      "text/plain": [
       "(45, 22, 61, 34)"
      ]
     },
     "execution_count": 36,
     "metadata": {},
     "output_type": "execute_result"
    }
   ],
   "source": [
    "l3[0][4]"
   ]
  },
  {
   "cell_type": "code",
   "execution_count": 38,
   "id": "d96668ff",
   "metadata": {},
   "outputs": [],
   "source": [
    "l1.append(l3[0][1])"
   ]
  },
  {
   "cell_type": "code",
   "execution_count": 39,
   "id": "ff30e904",
   "metadata": {},
   "outputs": [
    {
     "data": {
      "text/plain": [
       "[1, 2, 3, 4, 44, 55, 66, 34, 56, 78, 89, 34, 1, 2, 3, 56, 34]"
      ]
     },
     "execution_count": 39,
     "metadata": {},
     "output_type": "execute_result"
    }
   ],
   "source": [
    "l1"
   ]
  },
  {
   "cell_type": "code",
   "execution_count": 40,
   "id": "71f2d32b",
   "metadata": {},
   "outputs": [],
   "source": [
    "l1.append(l3[0]['key2'])"
   ]
  },
  {
   "cell_type": "code",
   "execution_count": 41,
   "id": "90de7380",
   "metadata": {},
   "outputs": [
    {
     "data": {
      "text/plain": [
       "[1, 2, 3, 4, 44, 55, 66, 34, 56, 78, 89, 34, 1, 2, 3, 56, 34, [55, 67, 78, 89]]"
      ]
     },
     "execution_count": 41,
     "metadata": {},
     "output_type": "execute_result"
    }
   ],
   "source": [
    "l1"
   ]
  },
  {
   "cell_type": "code",
   "execution_count": 43,
   "id": "479a5be8",
   "metadata": {},
   "outputs": [],
   "source": [
    "l1.append(l3[0][4])"
   ]
  },
  {
   "cell_type": "code",
   "execution_count": 44,
   "id": "7411b9bd",
   "metadata": {},
   "outputs": [
    {
     "data": {
      "text/plain": [
       "[1,\n",
       " 2,\n",
       " 3,\n",
       " 4,\n",
       " 44,\n",
       " 55,\n",
       " 66,\n",
       " 34,\n",
       " 56,\n",
       " 78,\n",
       " 89,\n",
       " 34,\n",
       " 1,\n",
       " 2,\n",
       " 3,\n",
       " 56,\n",
       " 34,\n",
       " [55, 67, 78, 89],\n",
       " (45, 22, 61, 34)]"
      ]
     },
     "execution_count": 44,
     "metadata": {},
     "output_type": "execute_result"
    }
   ],
   "source": [
    "l1"
   ]
  },
  {
   "cell_type": "code",
   "execution_count": 47,
   "id": "b21791d5",
   "metadata": {},
   "outputs": [],
   "source": [
    "l0=[]\n",
    "for i in l1:\n",
    "    if type(i)==list:\n",
    "        for  j in i:\n",
    "            if type(j)==int:\n",
    "                l0.append(j)\n",
    "    else:\n",
    "        if type(i)==int:\n",
    "            l0.append(i)"
   ]
  },
  {
   "cell_type": "code",
   "execution_count": 48,
   "id": "966b3878",
   "metadata": {},
   "outputs": [
    {
     "data": {
      "text/plain": [
       "[1, 2, 3, 4, 44, 55, 66, 34, 56, 78, 89, 34, 1, 2, 3, 56, 34, 55, 67, 78, 89]"
      ]
     },
     "execution_count": 48,
     "metadata": {},
     "output_type": "execute_result"
    }
   ],
   "source": [
    "l0"
   ]
  },
  {
   "cell_type": "code",
   "execution_count": 50,
   "id": "67fc81e3",
   "metadata": {},
   "outputs": [
    {
     "name": "stdout",
     "output_type": "stream",
     "text": [
      "503432570520426721266892800\n"
     ]
    }
   ],
   "source": [
    "r=1\n",
    "for i in l0:\n",
    "    r=r*i\n",
    "    \n",
    "print(r)"
   ]
  },
  {
   "cell_type": "code",
   "execution_count": null,
   "id": "d2e96d33",
   "metadata": {},
   "outputs": [],
   "source": []
  },
  {
   "cell_type": "code",
   "execution_count": null,
   "id": "3235d83d",
   "metadata": {},
   "outputs": [],
   "source": []
  }
 ],
 "metadata": {
  "kernelspec": {
   "display_name": "Python 3 (ipykernel)",
   "language": "python",
   "name": "python3"
  },
  "language_info": {
   "codemirror_mode": {
    "name": "ipython",
    "version": 3
   },
   "file_extension": ".py",
   "mimetype": "text/x-python",
   "name": "python",
   "nbconvert_exporter": "python",
   "pygments_lexer": "ipython3",
   "version": "3.10.9"
  }
 },
 "nbformat": 4,
 "nbformat_minor": 5
}
